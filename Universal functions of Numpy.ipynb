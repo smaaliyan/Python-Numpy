{
 "cells": [
  {
   "cell_type": "markdown",
   "id": "aaa31155",
   "metadata": {},
   "source": [
    "# UNIVERSAL FUNCTIONS OF NUMPY"
   ]
  },
  {
   "cell_type": "code",
   "execution_count": 1,
   "id": "63dda698",
   "metadata": {},
   "outputs": [],
   "source": [
    "import numpy as np"
   ]
  },
  {
   "cell_type": "markdown",
   "id": "a7b48175",
   "metadata": {},
   "source": [
    "## 1. NP.ARRAY"
   ]
  },
  {
   "cell_type": "code",
   "execution_count": 2,
   "id": "ca08822f",
   "metadata": {},
   "outputs": [
    {
     "name": "stdout",
     "output_type": "stream",
     "text": [
      "[1 2 3 4 5]\n",
      "[[1 2 3]\n",
      " [4 5 6]]\n",
      "[[[1 2 3]\n",
      "  [4 5 6]\n",
      "  [7 8 9]]]\n"
     ]
    }
   ],
   "source": [
    "#1D Array\n",
    "arr1 = np.array([1,2,3,4,5])\n",
    "print(arr1)\n",
    "\n",
    "#2D Array\n",
    "arr2 = np.array([[1,2,3],[4,5,6]])\n",
    "print(arr2)\n",
    "\n",
    "#3D Array\n",
    "arr3 = np.array([[[1,2,3],[4,5,6],[7,8,9]]])\n",
    "print(arr3)"
   ]
  },
  {
   "cell_type": "markdown",
   "id": "ef67d57b",
   "metadata": {},
   "source": [
    "## 2. NP.ZEROS"
   ]
  },
  {
   "cell_type": "code",
   "execution_count": 3,
   "id": "b224bda6",
   "metadata": {},
   "outputs": [
    {
     "name": "stdout",
     "output_type": "stream",
     "text": [
      "[0. 0. 0. 0. 0.]\n",
      "[[0. 0. 0.]\n",
      " [0. 0. 0.]]\n"
     ]
    }
   ],
   "source": [
    "#1D Array\n",
    "arr1 = np.zeros(5)\n",
    "print(arr1)\n",
    "\n",
    "#2D Array\n",
    "arr2 = np.zeros((2,3))\n",
    "print(arr2)"
   ]
  },
  {
   "cell_type": "markdown",
   "id": "3fdd264f",
   "metadata": {},
   "source": [
    "## 3. NP.ONES"
   ]
  },
  {
   "cell_type": "code",
   "execution_count": 4,
   "id": "c2001c59",
   "metadata": {},
   "outputs": [
    {
     "name": "stdout",
     "output_type": "stream",
     "text": [
      "[1. 1. 1. 1. 1.]\n",
      "[[1. 1. 1.]\n",
      " [1. 1. 1.]]\n"
     ]
    }
   ],
   "source": [
    "#1D Array\n",
    "arr1 = np.ones(5)\n",
    "print(arr1)\n",
    "\n",
    "#2D Array\n",
    "arr2 = np.ones((2,3))\n",
    "print(arr2)"
   ]
  },
  {
   "cell_type": "markdown",
   "id": "b85f6005",
   "metadata": {},
   "source": [
    "## 4. NP.ARANGE"
   ]
  },
  {
   "cell_type": "code",
   "execution_count": 5,
   "id": "24ef6fb4",
   "metadata": {},
   "outputs": [
    {
     "name": "stdout",
     "output_type": "stream",
     "text": [
      "[0 1 2 3]\n",
      "[1 3 5 7 9]\n"
     ]
    }
   ],
   "source": [
    "# Creating a 1D array with elements from 0 to 3\n",
    "arr1 = np.arange(4)\n",
    "print(arr1)\n",
    "\n",
    "# Creating a 1D array with elements from 1 to 9 with a step of 2\n",
    "arr2 = np.arange(1,10,2)\n",
    "print(arr2)"
   ]
  },
  {
   "cell_type": "markdown",
   "id": "f2c4d031",
   "metadata": {},
   "source": [
    "## 5. NP.RESIZE"
   ]
  },
  {
   "cell_type": "code",
   "execution_count": 6,
   "id": "69a61411",
   "metadata": {},
   "outputs": [
    {
     "name": "stdout",
     "output_type": "stream",
     "text": [
      "Orignal array is:  [0 1 2 3]\n",
      "Resized array is:  [[0 1 2]\n",
      " [3 0 1]]\n"
     ]
    }
   ],
   "source": [
    "# Creating a 1D array with elements from 0 to 3\n",
    "arr = np.arange(4)\n",
    "print(\"Orignal array is: \",arr)\n",
    "\n",
    "# Resizing the above array in the shape of (2,3)\n",
    "resizedd_arr = np.resize(arr,(2,3))\n",
    "print(\"Resized array is: \",resizedd_arr)\n"
   ]
  },
  {
   "cell_type": "markdown",
   "id": "09b8deb9",
   "metadata": {},
   "source": [
    "## 6. NP.RESHAPE"
   ]
  },
  {
   "cell_type": "code",
   "execution_count": 7,
   "id": "e100327c",
   "metadata": {},
   "outputs": [
    {
     "name": "stdout",
     "output_type": "stream",
     "text": [
      "Original Array is : [0 1 2 3]\n",
      "Reshaped Array is : [[0]\n",
      " [1]\n",
      " [2]\n",
      " [3]]\n"
     ]
    }
   ],
   "source": [
    "# Creating a 1D array with elements from 0 to 3\n",
    "arr = np.arange(4)\n",
    "print(\"Original Array is :\", arr)\n",
    "\n",
    "# Reshaping the above array to shape (4, 1)\n",
    "reshaped_arr = np.reshape(arr, (4, 1))\n",
    "print(\"Reshaped Array is :\", reshaped_arr)\n"
   ]
  },
  {
   "cell_type": "markdown",
   "id": "34ba810b",
   "metadata": {},
   "source": [
    "## 7. NP.TRANSPOSE"
   ]
  },
  {
   "cell_type": "code",
   "execution_count": 8,
   "id": "9b6e3fc2",
   "metadata": {},
   "outputs": [
    {
     "name": "stdout",
     "output_type": "stream",
     "text": [
      "orignal Array is:  [[1 2 3]\n",
      " [4 5 6]]\n",
      "[[1 4]\n",
      " [2 5]\n",
      " [3 6]]\n"
     ]
    }
   ],
   "source": [
    "# Creating a 2D Array\n",
    "arr = np.array([[1,2,3],[4,5,6]])\n",
    "print(\"orignal Array is: \",arr)\n",
    "\n",
    "# transposing the above array\n",
    "transposed_arr = np.transpose(arr)\n",
    "print(transposed_arr)"
   ]
  },
  {
   "cell_type": "markdown",
   "id": "1edfc09b",
   "metadata": {},
   "source": [
    "## 8. NP.SPLIT"
   ]
  },
  {
   "cell_type": "code",
   "execution_count": 9,
   "id": "87f374d8",
   "metadata": {},
   "outputs": [
    {
     "name": "stdout",
     "output_type": "stream",
     "text": [
      "Orignal Array is:  [1 2 3 4 5 6]\n",
      "Splited Array is  [array([1, 2]), array([3, 4]), array([5, 6])]\n"
     ]
    }
   ],
   "source": [
    "# Creating a 1D Array\n",
    "arr = np.arange(1,7)\n",
    "print(\"Orignal Array is: \",arr)\n",
    "\n",
    "# Spliting the above array into three sub-arrays\n",
    "split_arr = np.split(arr,[2,4])\n",
    "print(\"Splited Array is \",split_arr)"
   ]
  },
  {
   "cell_type": "markdown",
   "id": "9cf1e526",
   "metadata": {},
   "source": [
    "## 9. NP.MEAN"
   ]
  },
  {
   "cell_type": "code",
   "execution_count": 10,
   "id": "ea763a47",
   "metadata": {},
   "outputs": [
    {
     "name": "stdout",
     "output_type": "stream",
     "text": [
      "Orignal Array is:  [1 2 3 4 5 6]\n",
      "Calculated mean is  3.5\n"
     ]
    }
   ],
   "source": [
    "# Creating a 1D Array\n",
    "arr = np.arange(1,7)\n",
    "print(\"Orignal Array is: \",arr)\n",
    "\n",
    "# Calculating Mean of the above Array\n",
    "mean = np.mean(arr)\n",
    "print(\"Calculated mean is \",mean)"
   ]
  },
  {
   "cell_type": "markdown",
   "id": "42a09410",
   "metadata": {},
   "source": [
    "## 10. NP.MEDIAN"
   ]
  },
  {
   "cell_type": "code",
   "execution_count": 11,
   "id": "6fe83ba8",
   "metadata": {},
   "outputs": [
    {
     "name": "stdout",
     "output_type": "stream",
     "text": [
      "Orignal Array is:  [1 2 3 4]\n",
      "Calculated median is  2.5\n"
     ]
    }
   ],
   "source": [
    "# Creating a 1D Array\n",
    "arr = np.arange(1,5)\n",
    "print(\"Orignal Array is: \",arr)\n",
    "\n",
    "# Calculating Median of the above Array\n",
    "median = np.median(arr)\n",
    "print(\"Calculated median is \",median)"
   ]
  },
  {
   "cell_type": "markdown",
   "id": "e9b3a24b",
   "metadata": {},
   "source": [
    "## 11. NP.SORT"
   ]
  },
  {
   "cell_type": "code",
   "execution_count": 12,
   "id": "40575c2b",
   "metadata": {},
   "outputs": [
    {
     "name": "stdout",
     "output_type": "stream",
     "text": [
      "Orignal Array is  [6 1 5 2 4 3]\n",
      "Sorted Array is : [1 2 3 4 5 6]\n"
     ]
    }
   ],
   "source": [
    "# Creating a 1D Array\n",
    "arr = np.array([6,1,5,2,4,3])\n",
    "print(\"Orignal Array is \", arr)\n",
    "\n",
    "# Sorting the above Array\n",
    "sorted_arr = np.sort(arr)\n",
    "print(\"Sorted Array is :\",sorted_arr)\n"
   ]
  },
  {
   "cell_type": "markdown",
   "id": "2be1f209",
   "metadata": {},
   "source": [
    "## 12. NP.RANDOM.RAND"
   ]
  },
  {
   "cell_type": "code",
   "execution_count": 13,
   "id": "cc15a292",
   "metadata": {},
   "outputs": [
    {
     "name": "stdout",
     "output_type": "stream",
     "text": [
      "[[0.82526152 0.31920369 0.87036566]\n",
      " [0.66067803 0.60019873 0.64112111]]\n"
     ]
    }
   ],
   "source": [
    "# Generating a random numbers in shape of (2,3)\n",
    "rand_number = np.random.rand(2,3)\n",
    "print(rand_number)"
   ]
  },
  {
   "cell_type": "markdown",
   "id": "a79060c0",
   "metadata": {},
   "source": [
    "## 13. NP.RANDOM.RANDN"
   ]
  },
  {
   "cell_type": "code",
   "execution_count": 14,
   "id": "4a74f917",
   "metadata": {},
   "outputs": [
    {
     "name": "stdout",
     "output_type": "stream",
     "text": [
      "[[ 0.99456731 -0.76317945 -0.44740389]\n",
      " [-0.06164296 -0.65043953 -1.79708319]]\n"
     ]
    }
   ],
   "source": [
    "# Generating a random numbers in shape of (2,3)\n",
    "randn_number = np.random.randn(2,3)\n",
    "print(randn_number)"
   ]
  },
  {
   "cell_type": "markdown",
   "id": "17dab196",
   "metadata": {},
   "source": [
    "## 14. NP.RANDOM.RANDINT"
   ]
  },
  {
   "cell_type": "code",
   "execution_count": 15,
   "id": "d2f5cd82",
   "metadata": {},
   "outputs": [
    {
     "name": "stdout",
     "output_type": "stream",
     "text": [
      "[[2 2 4]\n",
      " [3 3 4]]\n"
     ]
    }
   ],
   "source": [
    "# Generating a random numbers in shape of (2,3)\n",
    "randint_number = np.random.randint(1,5,(2,3))\n",
    "print(randint_number)"
   ]
  },
  {
   "cell_type": "markdown",
   "id": "ee1a11f2",
   "metadata": {},
   "source": [
    "## 15. NP.EYE"
   ]
  },
  {
   "cell_type": "code",
   "execution_count": 16,
   "id": "b7848eb1",
   "metadata": {},
   "outputs": [
    {
     "name": "stdout",
     "output_type": "stream",
     "text": [
      "[[1. 0. 0.]\n",
      " [0. 1. 0.]\n",
      " [0. 0. 1.]]\n"
     ]
    }
   ],
   "source": [
    "# Creating a identity matrix of shape (3,3)\n",
    "identity_matrix = np.eye(3)\n",
    "print(identity_matrix)"
   ]
  },
  {
   "cell_type": "markdown",
   "id": "44ebd3b1",
   "metadata": {},
   "source": [
    "## 16. NP.CONCATENATE"
   ]
  },
  {
   "cell_type": "code",
   "execution_count": 17,
   "id": "13251d50",
   "metadata": {},
   "outputs": [
    {
     "name": "stdout",
     "output_type": "stream",
     "text": [
      "[[1 2]\n",
      " [3 4]\n",
      " [5 6]]\n"
     ]
    }
   ],
   "source": [
    "# Creating 2 different Arrays\n",
    "arr1 = np.array([[1,2],[3,4]])\n",
    "arr2 = np.array([[5,6]])\n",
    "\n",
    "# Concatenating Above two arrays along with axis=0\n",
    "concatenated = np.concatenate((arr1,arr2),axis=0)\n",
    "print(concatenated)"
   ]
  },
  {
   "cell_type": "markdown",
   "id": "7da773cb",
   "metadata": {},
   "source": [
    "## 17. NP.LINSPACE"
   ]
  },
  {
   "cell_type": "code",
   "execution_count": 18,
   "id": "0fe7e771",
   "metadata": {},
   "outputs": [
    {
     "name": "stdout",
     "output_type": "stream",
     "text": [
      "[0.   0.25 0.5  0.75 1.  ]\n"
     ]
    }
   ],
   "source": [
    "# Generating an array with equally spaced values\n",
    "linspaced_arr = np.linspace(0,1,5)\n",
    "print(linspaced_arr)"
   ]
  },
  {
   "cell_type": "markdown",
   "id": "6e768da3",
   "metadata": {},
   "source": [
    "## 18. NP.RAVEL"
   ]
  },
  {
   "cell_type": "code",
   "execution_count": 19,
   "id": "1ecb1abf",
   "metadata": {},
   "outputs": [
    {
     "name": "stdout",
     "output_type": "stream",
     "text": [
      "[1 2 3 4 5 6]\n"
     ]
    }
   ],
   "source": [
    "# Creating a 2D Array\n",
    "arr = np.array([[1,2,3],[4,5,6]])\n",
    "\n",
    "# Flattening the above array to 1D\n",
    "flattened_arr = np.ravel(arr)\n",
    "print(flattened_arr)"
   ]
  },
  {
   "cell_type": "markdown",
   "id": "3ab81fa0",
   "metadata": {},
   "source": [
    "## 19. NP.ADD"
   ]
  },
  {
   "cell_type": "code",
   "execution_count": 20,
   "id": "384adf7c",
   "metadata": {},
   "outputs": [
    {
     "name": "stdout",
     "output_type": "stream",
     "text": [
      "[4 6 8]\n"
     ]
    }
   ],
   "source": [
    "# Creating 2 Arrays\n",
    "arr1  = np.array([1,2,3])\n",
    "arr2 = np.array([3,4,5])\n",
    "\n",
    "# Adding the above 2 Arrays\n",
    "added_arr = np.add(arr1,arr2)\n",
    "print(added_arr)"
   ]
  },
  {
   "cell_type": "markdown",
   "id": "8996e963",
   "metadata": {},
   "source": [
    "## 20.  NP.UNIQUE"
   ]
  },
  {
   "cell_type": "code",
   "execution_count": 21,
   "id": "35de6f9d",
   "metadata": {},
   "outputs": [
    {
     "name": "stdout",
     "output_type": "stream",
     "text": [
      "[1 2 3 4 5 6]\n"
     ]
    }
   ],
   "source": [
    "# Creating a 1D array with duplicate values\n",
    "arr = np.array([1,2,2,3,4,4,4,5,5,6])\n",
    "\n",
    "# Performing Unique function on above Array\n",
    "unique_arr = np.unique(arr)\n",
    "print(unique_arr)"
   ]
  }
 ],
 "metadata": {
  "kernelspec": {
   "display_name": "Python 3",
   "language": "python",
   "name": "python3"
  },
  "language_info": {
   "codemirror_mode": {
    "name": "ipython",
    "version": 3
   },
   "file_extension": ".py",
   "mimetype": "text/x-python",
   "name": "python",
   "nbconvert_exporter": "python",
   "pygments_lexer": "ipython3",
   "version": "3.8.8"
  }
 },
 "nbformat": 4,
 "nbformat_minor": 5
}
